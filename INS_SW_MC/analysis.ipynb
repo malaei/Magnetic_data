{
 "cells": [
  {
   "cell_type": "code",
   "execution_count": 1,
   "id": "2e296b1b-bde8-4909-928d-2dc3a15bd042",
   "metadata": {},
   "outputs": [],
   "source": [
    "import pandas as pd\n",
    "import matplotlib.pyplot as plt\n",
    "import numpy as np"
   ]
  },
  {
   "cell_type": "code",
   "execution_count": 2,
   "id": "6db1a89b-5370-4e77-b24c-b347e5445f70",
   "metadata": {},
   "outputs": [
    {
     "name": "stderr",
     "output_type": "stream",
     "text": [
      "/tmp/ipykernel_9310/3008051203.py:2: FutureWarning: The 'delim_whitespace' keyword in pd.read_csv is deprecated and will be removed in a future version. Use ``sep='\\s+'`` instead\n",
      "  data=pd.read_csv(\"T.dat\", delim_whitespace=True)\n"
     ]
    }
   ],
   "source": [
    "#data=pd.read_csv('T-MC.txt', delim_whitespace=True)\n",
    "data=pd.read_csv(\"T.dat\", delim_whitespace=True)\n",
    "#data=pd.read_csv('T-MC.txt', sep='\\s+')"
   ]
  },
  {
   "cell_type": "code",
   "execution_count": 3,
   "id": "c7fa41ef-89de-407f-af59-05f9e6a96229",
   "metadata": {},
   "outputs": [
    {
     "data": {
      "text/html": [
       "<div>\n",
       "<style scoped>\n",
       "    .dataframe tbody tr th:only-of-type {\n",
       "        vertical-align: middle;\n",
       "    }\n",
       "\n",
       "    .dataframe tbody tr th {\n",
       "        vertical-align: top;\n",
       "    }\n",
       "\n",
       "    .dataframe thead th {\n",
       "        text-align: right;\n",
       "    }\n",
       "</style>\n",
       "<table border=\"1\" class=\"dataframe\">\n",
       "  <thead>\n",
       "    <tr style=\"text-align: right;\">\n",
       "      <th></th>\n",
       "      <th>Material</th>\n",
       "      <th>T_exp</th>\n",
       "      <th>T_MC</th>\n",
       "      <th>T_MC*</th>\n",
       "      <th>S</th>\n",
       "      <th>Error</th>\n",
       "    </tr>\n",
       "  </thead>\n",
       "  <tbody>\n",
       "    <tr>\n",
       "      <th>0</th>\n",
       "      <td>Ba2NiWO6</td>\n",
       "      <td>48.0</td>\n",
       "      <td>23.0</td>\n",
       "      <td>46.0</td>\n",
       "      <td>1.0</td>\n",
       "      <td>4.20</td>\n",
       "    </tr>\n",
       "    <tr>\n",
       "      <th>1</th>\n",
       "      <td>BaMn2As2</td>\n",
       "      <td>625.0</td>\n",
       "      <td>460.0</td>\n",
       "      <td>644.0</td>\n",
       "      <td>2.5</td>\n",
       "      <td>3.04</td>\n",
       "    </tr>\n",
       "    <tr>\n",
       "      <th>2</th>\n",
       "      <td>BaMn2Bi2</td>\n",
       "      <td>387.2</td>\n",
       "      <td>238.0</td>\n",
       "      <td>333.2</td>\n",
       "      <td>2.5</td>\n",
       "      <td>13.90</td>\n",
       "    </tr>\n",
       "    <tr>\n",
       "      <th>3</th>\n",
       "      <td>BaNi2As2O8</td>\n",
       "      <td>18.5</td>\n",
       "      <td>11.0</td>\n",
       "      <td>22.0</td>\n",
       "      <td>1.0</td>\n",
       "      <td>18.90</td>\n",
       "    </tr>\n",
       "    <tr>\n",
       "      <th>4</th>\n",
       "      <td>Bi2CuO4</td>\n",
       "      <td>50.0</td>\n",
       "      <td>17.5</td>\n",
       "      <td>52.5</td>\n",
       "      <td>0.5</td>\n",
       "      <td>5.00</td>\n",
       "    </tr>\n",
       "    <tr>\n",
       "      <th>...</th>\n",
       "      <td>...</td>\n",
       "      <td>...</td>\n",
       "      <td>...</td>\n",
       "      <td>...</td>\n",
       "      <td>...</td>\n",
       "      <td>...</td>\n",
       "    </tr>\n",
       "    <tr>\n",
       "      <th>68</th>\n",
       "      <td>YbMnBi2</td>\n",
       "      <td>290.0</td>\n",
       "      <td>203.0</td>\n",
       "      <td>284.2</td>\n",
       "      <td>2.5</td>\n",
       "      <td>2.00</td>\n",
       "    </tr>\n",
       "    <tr>\n",
       "      <th>69</th>\n",
       "      <td>YbMnSb2</td>\n",
       "      <td>345.0</td>\n",
       "      <td>266.0</td>\n",
       "      <td>372.4</td>\n",
       "      <td>2.5</td>\n",
       "      <td>7.94</td>\n",
       "    </tr>\n",
       "    <tr>\n",
       "      <th>70</th>\n",
       "      <td>YFeO3</td>\n",
       "      <td>644.5</td>\n",
       "      <td>445.0</td>\n",
       "      <td>623.0</td>\n",
       "      <td>2.5</td>\n",
       "      <td>3.30</td>\n",
       "    </tr>\n",
       "    <tr>\n",
       "      <th>71</th>\n",
       "      <td>YMnO3</td>\n",
       "      <td>70.0</td>\n",
       "      <td>40.0</td>\n",
       "      <td>60.0</td>\n",
       "      <td>2.0</td>\n",
       "      <td>14.30</td>\n",
       "    </tr>\n",
       "    <tr>\n",
       "      <th>72</th>\n",
       "      <td>YVO3</td>\n",
       "      <td>118.0</td>\n",
       "      <td>59.0</td>\n",
       "      <td>118.0</td>\n",
       "      <td>1.0</td>\n",
       "      <td>0.00</td>\n",
       "    </tr>\n",
       "  </tbody>\n",
       "</table>\n",
       "<p>73 rows × 6 columns</p>\n",
       "</div>"
      ],
      "text/plain": [
       "      Material  T_exp   T_MC  T_MC*    S  Error\n",
       "0     Ba2NiWO6   48.0   23.0   46.0  1.0   4.20\n",
       "1     BaMn2As2  625.0  460.0  644.0  2.5   3.04\n",
       "2     BaMn2Bi2  387.2  238.0  333.2  2.5  13.90\n",
       "3   BaNi2As2O8   18.5   11.0   22.0  1.0  18.90\n",
       "4      Bi2CuO4   50.0   17.5   52.5  0.5   5.00\n",
       "..         ...    ...    ...    ...  ...    ...\n",
       "68     YbMnBi2  290.0  203.0  284.2  2.5   2.00\n",
       "69     YbMnSb2  345.0  266.0  372.4  2.5   7.94\n",
       "70       YFeO3  644.5  445.0  623.0  2.5   3.30\n",
       "71       YMnO3   70.0   40.0   60.0  2.0  14.30\n",
       "72        YVO3  118.0   59.0  118.0  1.0   0.00\n",
       "\n",
       "[73 rows x 6 columns]"
      ]
     },
     "execution_count": 3,
     "metadata": {},
     "output_type": "execute_result"
    }
   ],
   "source": [
    "data"
   ]
  },
  {
   "cell_type": "code",
   "execution_count": 4,
   "id": "663b5b40-2ad3-4ca0-81a0-c39d12fc406f",
   "metadata": {},
   "outputs": [
    {
     "data": {
      "image/png": "[encoded data removed]",
      "text/plain": [
       "<Figure size 500x500 with 1 Axes>"
      ]
     },
     "metadata": {},
     "output_type": "display_data"
    }
   ],
   "source": [
    "texp=data[\"T_exp\"]\n",
    "tmc=data[\"T_MC\"]\n",
    "tmc_cor=data[\"T_MC*\"]\n",
    "xideal=data[\"T_exp\"]\n",
    "fig, ax = plt.subplots(figsize =(5, 5))\n",
    "plt.xticks([0,200,400,600,800,1000])\n",
    "plt.plot(texp, tmc_cor,'o', label=r'T$_{\\mathrm{MC}}^*$') \n",
    "plt.plot(texp, tmc, 's', alpha=0.8,markerfacecolor='none', label=r'T$_{\\mathrm{MC}}$')\n",
    "Tmax=max(texp.max(), tmc.max(), tmc_cor.max())\n",
    "Texp=np.array(texp)\n",
    "Texpnew=np.append(texp, Tmax+20)\n",
    "plt.plot(Texpnew, Texpnew, label=r'T$_{\\mathrm{exp}}$')\n",
    "plt.xlim(0,Tmax+20)\n",
    "plt.ylim(0,Tmax+20)\n",
    "plt.legend()\n",
    "plt.savefig(\"T.pdf\")"
   ]
  },
  {
   "cell_type": "code",
   "execution_count": 5,
   "id": "b7d7272b-5994-4caa-b70d-d94dc8fb4d90",
   "metadata": {},
   "outputs": [
    {
     "data": {
      "text/plain": [
       "0     52.083333\n",
       "1     26.400000\n",
       "2     38.533058\n",
       "3     40.540541\n",
       "4     65.000000\n",
       "        ...    \n",
       "68    30.000000\n",
       "69    22.898551\n",
       "70    30.954228\n",
       "71    42.857143\n",
       "72    50.000000\n",
       "Length: 73, dtype: float64"
      ]
     },
     "execution_count": 5,
     "metadata": {},
     "output_type": "execute_result"
    }
   ],
   "source": [
    "ape_tmc=abs(tmc-texp)/texp*100\n",
    "ape_tmc"
   ]
  },
  {
   "cell_type": "code",
   "execution_count": 6,
   "id": "b23d462e-2f83-41b0-a8a3-dbe0dda78e9c",
   "metadata": {},
   "outputs": [],
   "source": [
    "#some checking\n",
    "ape_tmc_cor=abs(tmc_cor-texp)/texp*100\n",
    "j=0\n",
    "for i in data[\"Error\"]:\n",
    "    if abs( data[\"Error\"].values[j]-ape_tmc_cor[j] ) > 0.1:\n",
    "        print(data[\"Material\"][j], data[\"Error\"].values[j]-ape_tmc_cor[j])\n",
    "    j=j+1"
   ]
  },
  {
   "cell_type": "code",
   "execution_count": 7,
   "id": "947816b9-7be7-491f-b5fd-f223f2735478",
   "metadata": {},
   "outputs": [],
   "source": [
    "#some checking\n",
    "tmc_cor1=data[\"T_MC\"]*(data[\"S\"]+1.0)/data[\"S\"]\n",
    "j=0\n",
    "for i in data[\"T_MC*\"]:\n",
    "    if abs(data[\"T_MC*\"].values[j]-tmc_cor1[j]) > 0.1:\n",
    "        print(data[\"Material\"][j], data[\"T_MC*\"].values[j], tmc_cor1[j])\n",
    "    j=j+1"
   ]
  },
  {
   "cell_type": "code",
   "execution_count": 8,
   "id": "6039d893-e4fa-4f17-98f6-1f05022205c7",
   "metadata": {},
   "outputs": [
    {
     "data": {
      "text/html": [
       "<div>\n",
       "<style scoped>\n",
       "    .dataframe tbody tr th:only-of-type {\n",
       "        vertical-align: middle;\n",
       "    }\n",
       "\n",
       "    .dataframe tbody tr th {\n",
       "        vertical-align: top;\n",
       "    }\n",
       "\n",
       "    .dataframe thead th {\n",
       "        text-align: right;\n",
       "    }\n",
       "</style>\n",
       "<table border=\"1\" class=\"dataframe\">\n",
       "  <thead>\n",
       "    <tr style=\"text-align: right;\">\n",
       "      <th></th>\n",
       "      <th>Material</th>\n",
       "      <th>T_exp</th>\n",
       "      <th>T_MC</th>\n",
       "      <th>T_MC*</th>\n",
       "      <th>S</th>\n",
       "      <th>Error</th>\n",
       "    </tr>\n",
       "  </thead>\n",
       "  <tbody>\n",
       "    <tr>\n",
       "      <th>3</th>\n",
       "      <td>BaNi2As2O8</td>\n",
       "      <td>18.5</td>\n",
       "      <td>11.0</td>\n",
       "      <td>22.00</td>\n",
       "      <td>1.0</td>\n",
       "      <td>18.90</td>\n",
       "    </tr>\n",
       "    <tr>\n",
       "      <th>7</th>\n",
       "      <td>CaMn2Sb2</td>\n",
       "      <td>85.0</td>\n",
       "      <td>69.0</td>\n",
       "      <td>115.00</td>\n",
       "      <td>1.5</td>\n",
       "      <td>35.30</td>\n",
       "    </tr>\n",
       "    <tr>\n",
       "      <th>8</th>\n",
       "      <td>CaMn7O12</td>\n",
       "      <td>90.0</td>\n",
       "      <td>61.0</td>\n",
       "      <td>122.00</td>\n",
       "      <td>1.0</td>\n",
       "      <td>35.50</td>\n",
       "    </tr>\n",
       "    <tr>\n",
       "      <th>10</th>\n",
       "      <td>CoO</td>\n",
       "      <td>289.0</td>\n",
       "      <td>201.0</td>\n",
       "      <td>335.00</td>\n",
       "      <td>1.5</td>\n",
       "      <td>15.90</td>\n",
       "    </tr>\n",
       "    <tr>\n",
       "      <th>11</th>\n",
       "      <td>CoPS3</td>\n",
       "      <td>120.0</td>\n",
       "      <td>61.0</td>\n",
       "      <td>101.66</td>\n",
       "      <td>1.5</td>\n",
       "      <td>15.30</td>\n",
       "    </tr>\n",
       "    <tr>\n",
       "      <th>17</th>\n",
       "      <td>CrCl3</td>\n",
       "      <td>14.0</td>\n",
       "      <td>10.0</td>\n",
       "      <td>16.60</td>\n",
       "      <td>1.5</td>\n",
       "      <td>18.60</td>\n",
       "    </tr>\n",
       "    <tr>\n",
       "      <th>32</th>\n",
       "      <td>KCuF3</td>\n",
       "      <td>39.0</td>\n",
       "      <td>15.0</td>\n",
       "      <td>45.00</td>\n",
       "      <td>0.5</td>\n",
       "      <td>15.40</td>\n",
       "    </tr>\n",
       "    <tr>\n",
       "      <th>34</th>\n",
       "      <td>La2NiO4</td>\n",
       "      <td>328.0</td>\n",
       "      <td>220.0</td>\n",
       "      <td>440.00</td>\n",
       "      <td>1.0</td>\n",
       "      <td>34.10</td>\n",
       "    </tr>\n",
       "    <tr>\n",
       "      <th>38</th>\n",
       "      <td>LiFePO4</td>\n",
       "      <td>50.0</td>\n",
       "      <td>41.0</td>\n",
       "      <td>61.50</td>\n",
       "      <td>2.0</td>\n",
       "      <td>23.00</td>\n",
       "    </tr>\n",
       "    <tr>\n",
       "      <th>39</th>\n",
       "      <td>LuMnO3</td>\n",
       "      <td>87.5</td>\n",
       "      <td>71.0</td>\n",
       "      <td>106.50</td>\n",
       "      <td>2.0</td>\n",
       "      <td>21.70</td>\n",
       "    </tr>\n",
       "    <tr>\n",
       "      <th>48</th>\n",
       "      <td>MnS2</td>\n",
       "      <td>48.0</td>\n",
       "      <td>25.0</td>\n",
       "      <td>35.00</td>\n",
       "      <td>2.5</td>\n",
       "      <td>27.10</td>\n",
       "    </tr>\n",
       "    <tr>\n",
       "      <th>54</th>\n",
       "      <td>NiCl2</td>\n",
       "      <td>52.3</td>\n",
       "      <td>36.0</td>\n",
       "      <td>72.00</td>\n",
       "      <td>1.0</td>\n",
       "      <td>37.70</td>\n",
       "    </tr>\n",
       "    <tr>\n",
       "      <th>56</th>\n",
       "      <td>NiO</td>\n",
       "      <td>523.0</td>\n",
       "      <td>310.0</td>\n",
       "      <td>620.00</td>\n",
       "      <td>1.0</td>\n",
       "      <td>18.54</td>\n",
       "    </tr>\n",
       "    <tr>\n",
       "      <th>58</th>\n",
       "      <td>Rb2MnF4</td>\n",
       "      <td>38.4</td>\n",
       "      <td>33.0</td>\n",
       "      <td>46.20</td>\n",
       "      <td>2.5</td>\n",
       "      <td>20.30</td>\n",
       "    </tr>\n",
       "    <tr>\n",
       "      <th>61</th>\n",
       "      <td>RbNiF3</td>\n",
       "      <td>133.0</td>\n",
       "      <td>79.0</td>\n",
       "      <td>158.00</td>\n",
       "      <td>1.0</td>\n",
       "      <td>18.80</td>\n",
       "    </tr>\n",
       "  </tbody>\n",
       "</table>\n",
       "</div>"
      ],
      "text/plain": [
       "      Material  T_exp   T_MC   T_MC*    S  Error\n",
       "3   BaNi2As2O8   18.5   11.0   22.00  1.0  18.90\n",
       "7     CaMn2Sb2   85.0   69.0  115.00  1.5  35.30\n",
       "8     CaMn7O12   90.0   61.0  122.00  1.0  35.50\n",
       "10         CoO  289.0  201.0  335.00  1.5  15.90\n",
       "11       CoPS3  120.0   61.0  101.66  1.5  15.30\n",
       "17       CrCl3   14.0   10.0   16.60  1.5  18.60\n",
       "32       KCuF3   39.0   15.0   45.00  0.5  15.40\n",
       "34     La2NiO4  328.0  220.0  440.00  1.0  34.10\n",
       "38     LiFePO4   50.0   41.0   61.50  2.0  23.00\n",
       "39      LuMnO3   87.5   71.0  106.50  2.0  21.70\n",
       "48        MnS2   48.0   25.0   35.00  2.5  27.10\n",
       "54       NiCl2   52.3   36.0   72.00  1.0  37.70\n",
       "56         NiO  523.0  310.0  620.00  1.0  18.54\n",
       "58     Rb2MnF4   38.4   33.0   46.20  2.5  20.30\n",
       "61      RbNiF3  133.0   79.0  158.00  1.0  18.80"
      ]
     },
     "execution_count": 8,
     "metadata": {},
     "output_type": "execute_result"
    }
   ],
   "source": [
    "mask15=data[\"Error\"]> 15\n",
    "data[mask15]"
   ]
  },
  {
   "cell_type": "code",
   "execution_count": 9,
   "id": "fc254f21-2fa0-49fd-b7dc-a10b0ac68efb",
   "metadata": {},
   "outputs": [
    {
     "data": {
      "text/plain": [
       "[<matplotlib.lines.Line2D at 0x7aa033f05340>]"
      ]
     },
     "execution_count": 9,
     "metadata": {},
     "output_type": "execute_result"
    },
    {
     "data": {
      "image/png": "[encoded data removed]",
      "text/plain": [
       "<Figure size 500x500 with 1 Axes>"
      ]
     },
     "metadata": {},
     "output_type": "display_data"
    }
   ],
   "source": [
    "mask_l30=data[\"Error\"]< 15\n",
    "data[mask_l30]\n",
    "texp=data[mask_l30][\"T_exp\"]\n",
    "tmc=data[mask_l30][\"T_MC\"]\n",
    "tmc_cor=data[mask_l30][\"T_MC*\"]\n",
    "xideal=data[mask_l30][\"T_exp\"]\n",
    "fig, ax = plt.subplots(figsize =(5, 5))\n",
    "plt.plot(texp, tmc_cor,'o') \n",
    "plt.plot(texp, tmc, 'd')\n",
    "plt.plot(texp, texp)"
   ]
  },
  {
   "cell_type": "code",
   "execution_count": 10,
   "id": "a0b1fd12-54f2-4f3f-a511-2fa49e621f3e",
   "metadata": {},
   "outputs": [
    {
     "data": {
      "text/plain": [
       "[<matplotlib.lines.Line2D at 0x7aa033fd0d10>]"
      ]
     },
     "execution_count": 10,
     "metadata": {},
     "output_type": "execute_result"
    },
    {
     "data": {
      "image/png": "[encoded data removed]",
      "text/plain": [
       "<Figure size 640x480 with 1 Axes>"
      ]
     },
     "metadata": {},
     "output_type": "display_data"
    }
   ],
   "source": [
    "plt.ylim(0,100)\n",
    "plt.plot(data[\"Error\"],'o')"
   ]
  },
  {
   "cell_type": "code",
   "execution_count": 11,
   "id": "c04b271e-a245-4512-a450-e368b830c3f7",
   "metadata": {},
   "outputs": [
    {
     "data": {
      "text/plain": [
       "(array([21., 22.,  6.,  9.,  6.,  3.,  1.,  1.,  0.,  4.]),\n",
       " array([ 0.  ,  3.77,  7.54, 11.31, 15.08, 18.85, 22.62, 26.39, 30.16,\n",
       "        33.93, 37.7 ]),\n",
       " <BarContainer object of 10 artists>)"
      ]
     },
     "execution_count": 11,
     "metadata": {},
     "output_type": "execute_result"
    },
    {
     "data": {
      "image/png": "[encoded data removed]",
      "text/plain": [
       "<Figure size 640x480 with 1 Axes>"
      ]
     },
     "metadata": {},
     "output_type": "display_data"
    }
   ],
   "source": [
    "mask100=data[\"Error\"] < 100\n",
    "data[mask100]\n",
    "plt.hist(data[mask100][\"Error\"], bins=10)"
   ]
  },
  {
   "cell_type": "code",
   "execution_count": 12,
   "id": "0d9629ee-4c8b-4f83-a1c1-b3cc4e5175fd",
   "metadata": {},
   "outputs": [
    {
     "name": "stdout",
     "output_type": "stream",
     "text": [
      "48.0\n",
      "625.0\n",
      "387.2\n",
      "18.5\n",
      "50.0\n",
      "650.0\n",
      "56.0\n",
      "270.0\n",
      "289.0\n",
      "120.0\n",
      "308.0\n",
      "93.0\n",
      "45.0\n",
      "32.0\n",
      "20.0\n",
      "14.0\n",
      "61.0\n",
      "11.0\n",
      "213.0\n",
      "69.15\n",
      "16.57\n",
      "960.0\n",
      "23.55\n",
      "78.4\n",
      "198.0\n",
      "120.0\n",
      "110.0\n",
      "170.0\n",
      "647.0\n",
      "114.0\n",
      "39.0\n",
      "275.0\n",
      "738.0\n",
      "139.5\n",
      "150.0\n",
      "50.0\n",
      "87.5\n",
      "630.0\n",
      "24.0\n",
      "67.0\n",
      "117.0\n",
      "92.0\n",
      "78.0\n",
      "74.0\n",
      "152.0\n",
      "48.0\n",
      "310.0\n",
      "65.0\n",
      "13.5\n",
      "693.0\n",
      "52.0\n",
      "73.2\n",
      "523.0\n",
      "707.0\n",
      "38.4\n",
      "94.0\n",
      "82.6\n",
      "133.0\n",
      "54.0\n",
      "290.0\n",
      "297.0\n",
      "681.0\n",
      "635.0\n",
      "627.0\n",
      "290.0\n",
      "345.0\n",
      "644.5\n",
      "70.0\n",
      "118.0\n"
     ]
    }
   ],
   "source": [
    "mask_l30=data[\"Error\"]< 30\n",
    "for i in data[mask_l30].index:\n",
    "    print(data[mask_l30][\"T_exp\"][i])"
   ]
  },
  {
   "cell_type": "code",
   "execution_count": null,
   "id": "cb081181-62a6-4630-b20c-936e8a185ed3",
   "metadata": {},
   "outputs": [],
   "source": []
  },
  {
   "cell_type": "code",
   "execution_count": null,
   "id": "d2700a63-e3fa-41db-a169-c548c215038f",
   "metadata": {},
   "outputs": [],
   "source": []
  },
  {
   "cell_type": "code",
   "execution_count": null,
   "id": "0ebdd0cd-f9db-432a-8c4e-b0a41720db7b",
   "metadata": {},
   "outputs": [],
   "source": []
  },
  {
   "cell_type": "code",
   "execution_count": null,
   "id": "a41d252f-cd89-4cbe-8351-1ad167539f4f",
   "metadata": {},
   "outputs": [],
   "source": []
  }
 ],
 "metadata": {
  "kernelspec": {
   "display_name": "Python 3 (ipykernel)",
   "language": "python",
   "name": "python3"
  },
  "language_info": {
   "codemirror_mode": {
    "name": "ipython",
    "version": 3
   },
   "file_extension": ".py",
   "mimetype": "text/x-python",
   "name": "python",
   "nbconvert_exporter": "python",
   "pygments_lexer": "ipython3",
   "version": "3.12.2"
  }
 },
 "nbformat": 4,
 "nbformat_minor": 5
}
